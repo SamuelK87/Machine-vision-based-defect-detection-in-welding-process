{
  "nbformat": 4,
  "nbformat_minor": 0,
  "metadata": {
    "colab": {
      "name": "model_summary.ipynb",
      "provenance": [],
      "mount_file_id": "1-RS4qG07CiGX6lGaTeMCKqsmGJZsR0eI",
      "authorship_tag": "ABX9TyO6/f6tTUP9hHF7QhPO2E5/",
      "include_colab_link": true
    },
    "kernelspec": {
      "name": "python3",
      "display_name": "Python 3"
    }
  },
  "cells": [
    {
      "cell_type": "markdown",
      "metadata": {
        "id": "view-in-github",
        "colab_type": "text"
      },
      "source": [
        "<a href=\"https://colab.research.google.com/github/SamuelK87/Machine-vision-based-defect-detection-in-welding-process/blob/master/model_summary_CNN_10def.ipynb\" target=\"_parent\"><img src=\"https://colab.research.google.com/assets/colab-badge.svg\" alt=\"Open In Colab\"/></a>"
      ]
    },
    {
      "cell_type": "markdown",
      "metadata": {
        "id": "s9kJvkhCmbD-",
        "colab_type": "text"
      },
      "source": [
        "import the necessary libraries"
      ]
    },
    {
      "cell_type": "code",
      "metadata": {
        "id": "SSvxl2vWmNpv",
        "colab_type": "code",
        "colab": {}
      },
      "source": [
        "from keras.preprocessing.image import img_to_array\n",
        "from keras.models import load_model\n",
        "import numpy as np\n",
        "import argparse\n",
        "import imutils\n",
        "import pickle\n",
        "import cv2\n",
        "from google.colab.patches import cv2_imshow\n",
        "import os"
      ],
      "execution_count": 1,
      "outputs": []
    },
    {
      "cell_type": "markdown",
      "metadata": {
        "id": "I5OHlNPFmwp1",
        "colab_type": "text"
      },
      "source": [
        "load the trained convolutional neural network"
      ]
    },
    {
      "cell_type": "code",
      "metadata": {
        "id": "F3rfsHSmmy3l",
        "colab_type": "code",
        "colab": {
          "base_uri": "https://localhost:8080/",
          "height": 34
        },
        "outputId": "f93f6b47-de4e-42c5-c9ea-8ccd734fd763"
      },
      "source": [
        "print(\"[INFO] loading network...\")\n",
        "model = load_model('/content/drive/My Drive/Colab Notebooks/Results/wdef_10cls_400ep/Wld_10cls.model')"
      ],
      "execution_count": 2,
      "outputs": [
        {
          "output_type": "stream",
          "text": [
            "[INFO] loading network...\n"
          ],
          "name": "stdout"
        }
      ]
    },
    {
      "cell_type": "markdown",
      "metadata": {
        "id": "dILtHbasm6lI",
        "colab_type": "text"
      },
      "source": [
        "getting the network summary"
      ]
    },
    {
      "cell_type": "code",
      "metadata": {
        "id": "cHq_f5Yhm-aU",
        "colab_type": "code",
        "colab": {
          "base_uri": "https://localhost:8080/",
          "height": 1000
        },
        "outputId": "3407a3d3-3c05-491e-d715-263af0c1d991"
      },
      "source": [
        "model.summary()"
      ],
      "execution_count": 3,
      "outputs": [
        {
          "output_type": "stream",
          "text": [
            "Model: \"sequential_7\"\n",
            "_________________________________________________________________\n",
            "Layer (type)                 Output Shape              Param #   \n",
            "=================================================================\n",
            "conv2d_31 (Conv2D)           (None, 96, 96, 32)        896       \n",
            "_________________________________________________________________\n",
            "activation_43 (Activation)   (None, 96, 96, 32)        0         \n",
            "_________________________________________________________________\n",
            "batch_normalization_37 (Batc (None, 96, 96, 32)        128       \n",
            "_________________________________________________________________\n",
            "max_pooling2d_19 (MaxPooling (None, 32, 32, 32)        0         \n",
            "_________________________________________________________________\n",
            "dropout_25 (Dropout)         (None, 32, 32, 32)        0         \n",
            "_________________________________________________________________\n",
            "conv2d_32 (Conv2D)           (None, 32, 32, 64)        18496     \n",
            "_________________________________________________________________\n",
            "activation_44 (Activation)   (None, 32, 32, 64)        0         \n",
            "_________________________________________________________________\n",
            "batch_normalization_38 (Batc (None, 32, 32, 64)        256       \n",
            "_________________________________________________________________\n",
            "conv2d_33 (Conv2D)           (None, 32, 32, 64)        36928     \n",
            "_________________________________________________________________\n",
            "activation_45 (Activation)   (None, 32, 32, 64)        0         \n",
            "_________________________________________________________________\n",
            "batch_normalization_39 (Batc (None, 32, 32, 64)        256       \n",
            "_________________________________________________________________\n",
            "max_pooling2d_20 (MaxPooling (None, 16, 16, 64)        0         \n",
            "_________________________________________________________________\n",
            "dropout_26 (Dropout)         (None, 16, 16, 64)        0         \n",
            "_________________________________________________________________\n",
            "conv2d_34 (Conv2D)           (None, 16, 16, 128)       73856     \n",
            "_________________________________________________________________\n",
            "activation_46 (Activation)   (None, 16, 16, 128)       0         \n",
            "_________________________________________________________________\n",
            "batch_normalization_40 (Batc (None, 16, 16, 128)       512       \n",
            "_________________________________________________________________\n",
            "conv2d_35 (Conv2D)           (None, 16, 16, 128)       147584    \n",
            "_________________________________________________________________\n",
            "activation_47 (Activation)   (None, 16, 16, 128)       0         \n",
            "_________________________________________________________________\n",
            "batch_normalization_41 (Batc (None, 16, 16, 128)       512       \n",
            "_________________________________________________________________\n",
            "max_pooling2d_21 (MaxPooling (None, 8, 8, 128)         0         \n",
            "_________________________________________________________________\n",
            "dropout_27 (Dropout)         (None, 8, 8, 128)         0         \n",
            "_________________________________________________________________\n",
            "flatten_7 (Flatten)          (None, 8192)              0         \n",
            "_________________________________________________________________\n",
            "dense_13 (Dense)             (None, 1024)              8389632   \n",
            "_________________________________________________________________\n",
            "activation_48 (Activation)   (None, 1024)              0         \n",
            "_________________________________________________________________\n",
            "batch_normalization_42 (Batc (None, 1024)              4096      \n",
            "_________________________________________________________________\n",
            "dropout_28 (Dropout)         (None, 1024)              0         \n",
            "_________________________________________________________________\n",
            "dense_14 (Dense)             (None, 10)                10250     \n",
            "_________________________________________________________________\n",
            "activation_49 (Activation)   (None, 10)                0         \n",
            "=================================================================\n",
            "Total params: 8,683,402\n",
            "Trainable params: 8,680,522\n",
            "Non-trainable params: 2,880\n",
            "_________________________________________________________________\n"
          ],
          "name": "stdout"
        }
      ]
    }
  ]
}