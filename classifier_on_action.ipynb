{
  "nbformat": 4,
  "nbformat_minor": 0,
  "metadata": {
    "colab": {
      "name": "Untitled6.ipynb",
      "provenance": [],
      "toc_visible": true,
      "mount_file_id": "1P8mpkwsAh4o_CLC3jiU_xQ0ECUCE1-xZ",
      "authorship_tag": "ABX9TyOuv/qFahwrAmg46U44cozv",
      "include_colab_link": true
    },
    "kernelspec": {
      "name": "python3",
      "display_name": "Python 3"
    }
  },
  "cells": [
    {
      "cell_type": "markdown",
      "metadata": {
        "id": "view-in-github",
        "colab_type": "text"
      },
      "source": [
        "<a href=\"https://colab.research.google.com/github/SamuelK87/Machine-vision-based-defect-detection-in-welding-process/blob/master/classifier_on_action.ipynb\" target=\"_parent\"><img src=\"https://colab.research.google.com/assets/colab-badge.svg\" alt=\"Open In Colab\"/></a>"
      ]
    },
    {
      "cell_type": "markdown",
      "metadata": {
        "id": "Qf4mjm9MU1nB",
        "colab_type": "text"
      },
      "source": [
        "## import the necessary packages"
      ]
    },
    {
      "cell_type": "code",
      "metadata": {
        "id": "cvsBGmOiU_wv",
        "colab_type": "code",
        "colab": {}
      },
      "source": [
        "from keras.preprocessing.image import img_to_array\n",
        "from keras.models import load_model\n",
        "import numpy as np\n",
        "import argparse\n",
        "import imutils\n",
        "import pickle\n",
        "import cv2\n",
        "from google.colab.patches import cv2_imshow\n",
        "import os"
      ],
      "execution_count": 139,
      "outputs": []
    },
    {
      "cell_type": "markdown",
      "metadata": {
        "id": "BIdhodvKVHiS",
        "colab_type": "text"
      },
      "source": [
        "# load the image"
      ]
    },
    {
      "cell_type": "code",
      "metadata": {
        "id": "HdWzt8EcVOXY",
        "colab_type": "code",
        "colab": {}
      },
      "source": [
        "image_path='/content/drive/My Drive/Colab Notebooks/weld_dataset_10cls/cap undercut/0000089.jpg'\n",
        "image = cv2.imread(image_path)\n",
        "output = image.copy()"
      ],
      "execution_count": 140,
      "outputs": []
    },
    {
      "cell_type": "markdown",
      "metadata": {
        "id": "UdMA5IlVVUqB",
        "colab_type": "text"
      },
      "source": [
        "# pre-process the image for classification"
      ]
    },
    {
      "cell_type": "code",
      "metadata": {
        "id": "TfUShK7MVZ34",
        "colab_type": "code",
        "colab": {}
      },
      "source": [
        "image = cv2.resize(image, (96, 96))\n",
        "image = image.astype(\"float\") / 255.0\n",
        "image = img_to_array(image)\n",
        "image = np.expand_dims(image, axis=0)"
      ],
      "execution_count": 141,
      "outputs": []
    },
    {
      "cell_type": "markdown",
      "metadata": {
        "id": "yocuWMylVjsk",
        "colab_type": "text"
      },
      "source": [
        "# load the trained convolutional neural network and the label\n",
        "# binarizer"
      ]
    },
    {
      "cell_type": "code",
      "metadata": {
        "id": "y4OLF_8YV619",
        "colab_type": "code",
        "colab": {
          "base_uri": "https://localhost:8080/",
          "height": 34
        },
        "outputId": "8779169a-e32d-4639-e7f0-928b8dac2bf4"
      },
      "source": [
        "print(\"[INFO] loading network...\")\n",
        "model = load_model('/content/drive/My Drive/Colab Notebooks/Results/wdef_10cls_400ep/Wld_10cls.model')\n",
        "lb = pickle.loads(open('/content/drive/My Drive/Colab Notebooks/Results/wdef_10cls_400ep/lb.pickle', \"rb\").read())"
      ],
      "execution_count": 142,
      "outputs": [
        {
          "output_type": "stream",
          "text": [
            "[INFO] loading network...\n"
          ],
          "name": "stdout"
        }
      ]
    },
    {
      "cell_type": "markdown",
      "metadata": {
        "id": "it8735b7WW_Z",
        "colab_type": "text"
      },
      "source": [
        "# classify the input image"
      ]
    },
    {
      "cell_type": "code",
      "metadata": {
        "id": "55jUu0jLWilT",
        "colab_type": "code",
        "colab": {
          "base_uri": "https://localhost:8080/",
          "height": 72
        },
        "outputId": "9fedfe83-8794-4026-c019-5043d964b2c3"
      },
      "source": [
        "print(\"[INFO] classifying image...\")\n",
        "proba = model.predict(image)[0]\n",
        "idx = np.argmax(proba)\n",
        "label = lb.classes_[idx]"
      ],
      "execution_count": 143,
      "outputs": [
        {
          "output_type": "stream",
          "text": [
            "[INFO] classifying image...\n",
            "WARNING:tensorflow:11 out of the last 11 calls to <function Model.make_predict_function.<locals>.predict_function at 0x7f128a6738c8> triggered tf.function retracing. Tracing is expensive and the excessive number of tracings could be due to (1) creating @tf.function repeatedly in a loop, (2) passing tensors with different shapes, (3) passing Python objects instead of tensors. For (1), please define your @tf.function outside of the loop. For (2), @tf.function has experimental_relax_shapes=True option that relaxes argument shapes that can avoid unnecessary retracing. For (3), please refer to https://www.tensorflow.org/tutorials/customization/performance#python_or_tensor_args and https://www.tensorflow.org/api_docs/python/tf/function for  more details.\n"
          ],
          "name": "stdout"
        }
      ]
    },
    {
      "cell_type": "markdown",
      "metadata": {
        "id": "MSga2lJ5Wpks",
        "colab_type": "text"
      },
      "source": [
        "# we'll mark our prediction as \"correct\" of the input image filename contains the predicted label text (obviously this makes the assumption that you have named your testing image files this way)"
      ]
    },
    {
      "cell_type": "code",
      "metadata": {
        "id": "JCnACPewW2qJ",
        "colab_type": "code",
        "colab": {}
      },
      "source": [
        "filename = image_path[image_path.rfind(os.path.sep) + 1:]\n",
        "\n",
        "#correct = \"correct\" if filename.rfind(label) != -1 else \"incorrect\""
      ],
      "execution_count": 144,
      "outputs": []
    },
    {
      "cell_type": "markdown",
      "metadata": {
        "id": "nm5qKZeMXAuB",
        "colab_type": "text"
      },
      "source": [
        "# build the label and draw the label on the image"
      ]
    },
    {
      "cell_type": "code",
      "metadata": {
        "id": "Gl-iMJtcW-IY",
        "colab_type": "code",
        "colab": {
          "base_uri": "https://localhost:8080/",
          "height": 868
        },
        "outputId": "6cdb5b5a-ad9f-4354-e5cd-89aef1ca1bfe"
      },
      "source": [
        "label = \"{}: {:.2f}% \".format(label, proba[idx] * 100)\n",
        "output = imutils.resize(output, width=400)\n",
        "cv2.putText(output, label, (10, 25),  cv2.FONT_HERSHEY_SIMPLEX, 0.7, (0, 255, 0), 2)"
      ],
      "execution_count": 145,
      "outputs": [
        {
          "output_type": "execute_result",
          "data": {
            "text/plain": [
              "array([[[ 42,  42,  42],\n",
              "        [ 42,  42,  42],\n",
              "        [ 42,  42,  42],\n",
              "        ...,\n",
              "        [108, 108, 108],\n",
              "        [108, 108, 108],\n",
              "        [108, 108, 108]],\n",
              "\n",
              "       [[ 42,  42,  42],\n",
              "        [ 42,  42,  42],\n",
              "        [ 42,  42,  42],\n",
              "        ...,\n",
              "        [108, 108, 108],\n",
              "        [108, 108, 108],\n",
              "        [108, 108, 108]],\n",
              "\n",
              "       [[ 42,  42,  42],\n",
              "        [ 42,  42,  42],\n",
              "        [ 42,  42,  42],\n",
              "        ...,\n",
              "        [108, 108, 108],\n",
              "        [108, 108, 108],\n",
              "        [108, 108, 108]],\n",
              "\n",
              "       ...,\n",
              "\n",
              "       [[145, 145, 145],\n",
              "        [145, 145, 145],\n",
              "        [145, 145, 145],\n",
              "        ...,\n",
              "        [110, 110, 110],\n",
              "        [110, 110, 110],\n",
              "        [110, 110, 110]],\n",
              "\n",
              "       [[145, 145, 145],\n",
              "        [145, 145, 145],\n",
              "        [145, 145, 145],\n",
              "        ...,\n",
              "        [110, 110, 110],\n",
              "        [110, 110, 110],\n",
              "        [110, 110, 110]],\n",
              "\n",
              "       [[145, 145, 145],\n",
              "        [145, 145, 145],\n",
              "        [145, 145, 145],\n",
              "        ...,\n",
              "        [110, 110, 110],\n",
              "        [110, 110, 110],\n",
              "        [110, 110, 110]]], dtype=uint8)"
            ]
          },
          "metadata": {
            "tags": []
          },
          "execution_count": 145
        }
      ]
    },
    {
      "cell_type": "markdown",
      "metadata": {
        "id": "CCbhic_sXTlr",
        "colab_type": "text"
      },
      "source": [
        "# show the output image"
      ]
    },
    {
      "cell_type": "code",
      "metadata": {
        "id": "uL8vHP3fXY7x",
        "colab_type": "code",
        "colab": {
          "base_uri": "https://localhost:8080/",
          "height": 448
        },
        "outputId": "c4cee088-f587-42a0-936a-47356e840506"
      },
      "source": [
        "print(\"[INFO] {}\".format(label))\n",
        "cv2_imshow( output)\n",
        "cv2.waitKey(0)"
      ],
      "execution_count": 146,
      "outputs": [
        {
          "output_type": "stream",
          "text": [
            "[INFO] cap undercut: 93.51% \n"
          ],
          "name": "stdout"
        },
        {
          "output_type": "display_data",
          "data": {
            "image/png": "[encoded data removed]",
            "text/plain": [
              "<PIL.Image.Image image mode=RGB size=400x396 at 0x7F128A65C4E0>"
            ]
          },
          "metadata": {
            "tags": []
          }
        },
        {
          "output_type": "execute_result",
          "data": {
            "text/plain": [
              "-1"
            ]
          },
          "metadata": {
            "tags": []
          },
          "execution_count": 146
        }
      ]
    }
  ]
}